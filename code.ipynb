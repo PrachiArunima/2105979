{
  "nbformat": 4,
  "nbformat_minor": 0,
  "metadata": {
    "colab": {
      "provenance": [],
      "toc_visible": true,
      "authorship_tag": "ABX9TyOTIQ5nJH52K/Vc9ujiHUw+",
      "include_colab_link": true
    },
    "kernelspec": {
      "name": "python3",
      "display_name": "Python 3"
    },
    "language_info": {
      "name": "python"
    }
  },
  "cells": [
    {
      "cell_type": "markdown",
      "metadata": {
        "id": "view-in-github",
        "colab_type": "text"
      },
      "source": [
        "<a href=\"https://colab.research.google.com/github/PrachiArunima/2105979/blob/main/code.ipynb\" target=\"_parent\"><img src=\"https://colab.research.google.com/assets/colab-badge.svg\" alt=\"Open In Colab\"/></a>"
      ]
    },
    {
      "cell_type": "code",
      "execution_count": 10,
      "metadata": {
        "colab": {
          "base_uri": "https://localhost:8080/",
          "height": 421
        },
        "id": "aggczbjsnG9h",
        "outputId": "7840eceb-0460-4737-9a92-a4386c9be929"
      },
      "outputs": [
        {
          "output_type": "stream",
          "name": "stdout",
          "text": [
            "Drive already mounted at /content/drive; to attempt to forcibly remount, call drive.mount(\"/content/drive\", force_remount=True).\n"
          ]
        },
        {
          "output_type": "error",
          "ename": "FileNotFoundError",
          "evalue": "ignored",
          "traceback": [
            "\u001b[0;31m---------------------------------------------------------------------------\u001b[0m",
            "\u001b[0;31mFileNotFoundError\u001b[0m                         Traceback (most recent call last)",
            "\u001b[0;32m<ipython-input-10-e49d674fef5d>\u001b[0m in \u001b[0;36m<cell line: 54>\u001b[0;34m()\u001b[0m\n\u001b[1;32m     52\u001b[0m \u001b[0;34m\u001b[0m\u001b[0m\n\u001b[1;32m     53\u001b[0m \u001b[0;31m# Load the image as a numpy array\u001b[0m\u001b[0;34m\u001b[0m\u001b[0;34m\u001b[0m\u001b[0m\n\u001b[0;32m---> 54\u001b[0;31m \u001b[0minput_image\u001b[0m \u001b[0;34m=\u001b[0m \u001b[0mnp\u001b[0m\u001b[0;34m.\u001b[0m\u001b[0marray\u001b[0m\u001b[0;34m(\u001b[0m\u001b[0mImage\u001b[0m\u001b[0;34m.\u001b[0m\u001b[0mopen\u001b[0m\u001b[0;34m(\u001b[0m\u001b[0minput_image_path\u001b[0m\u001b[0;34m)\u001b[0m\u001b[0;34m)\u001b[0m\u001b[0;34m\u001b[0m\u001b[0;34m\u001b[0m\u001b[0m\n\u001b[0m\u001b[1;32m     55\u001b[0m \u001b[0;34m\u001b[0m\u001b[0m\n\u001b[1;32m     56\u001b[0m \u001b[0;31m# Example usage: Generate an image using the genetic algorithm\u001b[0m\u001b[0;34m\u001b[0m\u001b[0;34m\u001b[0m\u001b[0m\n",
            "\u001b[0;32m/usr/local/lib/python3.10/dist-packages/PIL/Image.py\u001b[0m in \u001b[0;36mopen\u001b[0;34m(fp, mode, formats)\u001b[0m\n\u001b[1;32m   3225\u001b[0m \u001b[0;34m\u001b[0m\u001b[0m\n\u001b[1;32m   3226\u001b[0m     \u001b[0;32mif\u001b[0m \u001b[0mfilename\u001b[0m\u001b[0;34m:\u001b[0m\u001b[0;34m\u001b[0m\u001b[0;34m\u001b[0m\u001b[0m\n\u001b[0;32m-> 3227\u001b[0;31m         \u001b[0mfp\u001b[0m \u001b[0;34m=\u001b[0m \u001b[0mbuiltins\u001b[0m\u001b[0;34m.\u001b[0m\u001b[0mopen\u001b[0m\u001b[0;34m(\u001b[0m\u001b[0mfilename\u001b[0m\u001b[0;34m,\u001b[0m \u001b[0;34m\"rb\"\u001b[0m\u001b[0;34m)\u001b[0m\u001b[0;34m\u001b[0m\u001b[0;34m\u001b[0m\u001b[0m\n\u001b[0m\u001b[1;32m   3228\u001b[0m         \u001b[0mexclusive_fp\u001b[0m \u001b[0;34m=\u001b[0m \u001b[0;32mTrue\u001b[0m\u001b[0;34m\u001b[0m\u001b[0;34m\u001b[0m\u001b[0m\n\u001b[1;32m   3229\u001b[0m \u001b[0;34m\u001b[0m\u001b[0m\n",
            "\u001b[0;31mFileNotFoundError\u001b[0m: [Errno 2] No such file or directory: 'https://drive.google.com/drive/folders/1QL8cblmkycSFDTGybxhfRHJygGXqfnm1?usp=sharing'"
          ]
        }
      ],
      "source": [
        "from google.colab import drive\n",
        "from PIL import Image\n",
        "import numpy as np\n",
        "import random\n",
        "import requests\n",
        "from IPython.display import display\n",
        "\n",
        "# Function to generate a canvas\n",
        "def generate_canvas(h, w):\n",
        "    \"\"\"Generates a canvas of height h and width w.\"\"\"\n",
        "    canvas = np.zeros((h, w, 3), dtype=np.uint8)\n",
        "    return canvas\n",
        "\n",
        "# Function to generate random squares\n",
        "def generate_squares(n, h, w):\n",
        "    \"\"\"Generates n random squares in the canvas.\"\"\"\n",
        "    squares = []\n",
        "    for i in range(n):\n",
        "        x = random.randint(0, h - 1)\n",
        "        y = random.randint(0, w - 1)\n",
        "        rgb = np.random.randint(0, 255, size=3)\n",
        "        opacity = random.uniform(0, 1)\n",
        "        squares.append((x, y, rgb, opacity))\n",
        "    return squares\n",
        "\n",
        "# Function to evaluate the quality of each square in relation to the input image\n",
        "def evaluate_square(square, input_image):\n",
        "    x, y, rgb, opacity = square\n",
        "    # Simple evaluation method (squared difference as an example)\n",
        "    return np.sum(np.square(input_image[x, y] - (rgb * opacity)))\n",
        "\n",
        "# Function to generate an image using squares\n",
        "def generate_image_using_squares(input_image, n_squares, N, generations):\n",
        "    squares = generate_squares(n_squares, input_image.shape[0], input_image.shape[1])\n",
        "\n",
        "    for i in range(generations):\n",
        "        objective_function_values = [evaluate_square(square, input_image) for square in squares]\n",
        "        # Perform genetic algorithm steps: crossover, mutation, selection\n",
        "\n",
        "    canvas = generate_canvas(input_image.shape[0], input_image.shape[1])\n",
        "    for square in squares:\n",
        "        x, y, rgb, opacity = square\n",
        "        canvas[x, y] += (rgb * opacity).astype(np.uint8)\n",
        "\n",
        "    return canvas\n",
        "\n",
        "# Mount Google Drive\n",
        "drive.mount('/content/drive')\n",
        "\n",
        "# Replace 'YOUR_IMAGE_ID' with your image ID from Google Drive\n",
        "input_image_path = 'https://drive.google.com/drive/folders/1QL8cblmkycSFDTGybxhfRHJygGXqfnm1?usp=sharing'\n",
        "\n",
        "# Load the image as a numpy array\n",
        "input_image = np.array(Image.open(input_image_path))\n",
        "\n",
        "# Example usage: Generate an image using the genetic algorithm\n",
        "n_squares = 100  # Number of squares\n",
        "N = 50  # Number of selected squares\n",
        "generations = 100  # Number of generations\n",
        "\n",
        "# Generate the image using the genetic algorithm with squares\n",
        "generated_image = generate_image_using_squares(input_image, n_squares, N, generations)\n",
        "\n",
        "# Display the generated image\n",
        "display(Image.fromarray(generated_image))\n"
      ]
    }
  ]
}